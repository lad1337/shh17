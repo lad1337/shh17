{
 "cells": [
  {
   "cell_type": "code",
   "execution_count": 1,
   "metadata": {},
   "outputs": [],
   "source": [
    "import base64\n",
    "\n",
    "\n",
    "def b64urlencode(s):\n",
    "    return base64.urlsafe_b64encode(s).rstrip(b'=')\n",
    "\n",
    "\n",
    "def b64urldecode(s):\n",
    "    remainder = len(s) % 4\n",
    "    if remainder == 2:\n",
    "        s += b'=='\n",
    "    elif remainder == 3:\n",
    "        s += b'='\n",
    "    elif remainder == 1:\n",
    "        raise ValueError(\"Illegal base64 string.\")\n",
    "    else:\n",
    "        assert remainder == 0, \"Math is wrong.\"\n",
    "    return base64.urlsafe_b64decode(s)\n"
   ]
  },
  {
   "cell_type": "code",
   "execution_count": 7,
   "metadata": {},
   "outputs": [],
   "source": [
    "import json\n",
    "from Crypto.Hash import HMAC, SHA256\n",
    "\n",
    "\n",
    "def encode(payload, secret):\n",
    "    header = b64urlencode(json.dumps({\n",
    "        'typ': 'JWT',\n",
    "        'alg': 'HS256'\n",
    "    }).encode())\n",
    "    payload = b64urlencode(json.dumps(payload).encode())\n",
    "    hmac = HMAC.new(\n",
    "        secret.encode(), \n",
    "        b'.'.join([header, payload]),\n",
    "        digestmod=SHA256)\n",
    "    signature = b64urlencode(hmac.digest())\n",
    "    return b'.'.join([header, payload, signature])\n",
    "\n",
    "token = encode({\n",
    "    \"iss\": \"joe\",\n",
    "    \"exp\": 1404001022\n",
    "}, 'secret')\n",
    "\n",
    "\n",
    "def decode(token, secret):\n",
    "    protected, found, signature = token.rpartition(b'.')\n",
    "    if not found:\n",
    "        raise ValueError(\"Invalid token format.\")\n",
    "        \n",
    "    signature = b64urldecode(signature)\n",
    "    hmac = HMAC.new(secret.encode(), protected, digestmod=SHA256)\n",
    "    if signature != hmac.digest():\n",
    "        raise ValueError(\"Invalid signature.\")\n",
    "    \n",
    "    header, payload = protected.split(b'.')\n",
    "    header = json.loads(b64urldecode(header))\n",
    "    payload = json.loads(b64urldecode(payload))\n",
    "    \n",
    "\n",
    "    \n",
    "    \n",
    "    "
   ]
  },
  {
   "cell_type": "code",
   "execution_count": 8,
   "metadata": {},
   "outputs": [
    {
     "ename": "ExpiredSignatureError",
     "evalue": "Signature has expired.",
     "output_type": "error",
     "traceback": [
      "\u001b[0;31m---------------------------------------------------------------------------\u001b[0m",
      "\u001b[0;31mExpiredSignatureError\u001b[0m                     Traceback (most recent call last)",
      "\u001b[0;32m<ipython-input-8-26e0cf343246>\u001b[0m in \u001b[0;36m<module>\u001b[0;34m()\u001b[0m\n\u001b[1;32m      1\u001b[0m \u001b[0;32mfrom\u001b[0m \u001b[0mjose\u001b[0m \u001b[0;32mimport\u001b[0m \u001b[0mjwt\u001b[0m\u001b[0;34m\u001b[0m\u001b[0m\n\u001b[1;32m      2\u001b[0m \u001b[0;34m\u001b[0m\u001b[0m\n\u001b[0;32m----> 3\u001b[0;31m \u001b[0mjwt\u001b[0m\u001b[0;34m.\u001b[0m\u001b[0mdecode\u001b[0m\u001b[0;34m(\u001b[0m\u001b[0mtoken\u001b[0m\u001b[0;34m,\u001b[0m \u001b[0;34m'secret'\u001b[0m\u001b[0;34m)\u001b[0m\u001b[0;34m\u001b[0m\u001b[0m\n\u001b[0m",
      "\u001b[0;32m/usr/local/var/pyenv/versions/p2/envs/p3/lib/python3.6/site-packages/jose/jwt.py\u001b[0m in \u001b[0;36mdecode\u001b[0;34m(token, key, algorithms, options, audience, issuer, subject, access_token)\u001b[0m\n\u001b[1;32m    148\u001b[0m                      \u001b[0msubject\u001b[0m\u001b[0;34m=\u001b[0m\u001b[0msubject\u001b[0m\u001b[0;34m,\u001b[0m \u001b[0malgorithm\u001b[0m\u001b[0;34m=\u001b[0m\u001b[0malgorithm\u001b[0m\u001b[0;34m,\u001b[0m\u001b[0;34m\u001b[0m\u001b[0m\n\u001b[1;32m    149\u001b[0m                      \u001b[0maccess_token\u001b[0m\u001b[0;34m=\u001b[0m\u001b[0maccess_token\u001b[0m\u001b[0;34m,\u001b[0m\u001b[0;34m\u001b[0m\u001b[0m\n\u001b[0;32m--> 150\u001b[0;31m                      options=defaults)\n\u001b[0m\u001b[1;32m    151\u001b[0m \u001b[0;34m\u001b[0m\u001b[0m\n\u001b[1;32m    152\u001b[0m     \u001b[0;32mreturn\u001b[0m \u001b[0mclaims\u001b[0m\u001b[0;34m\u001b[0m\u001b[0m\n",
      "\u001b[0;32m/usr/local/var/pyenv/versions/p2/envs/p3/lib/python3.6/site-packages/jose/jwt.py\u001b[0m in \u001b[0;36m_validate_claims\u001b[0;34m(claims, audience, issuer, subject, algorithm, access_token, options)\u001b[0m\n\u001b[1;32m    455\u001b[0m \u001b[0;34m\u001b[0m\u001b[0m\n\u001b[1;32m    456\u001b[0m     \u001b[0;32mif\u001b[0m \u001b[0moptions\u001b[0m\u001b[0;34m.\u001b[0m\u001b[0mget\u001b[0m\u001b[0;34m(\u001b[0m\u001b[0;34m'verify_exp'\u001b[0m\u001b[0;34m)\u001b[0m\u001b[0;34m:\u001b[0m\u001b[0;34m\u001b[0m\u001b[0m\n\u001b[0;32m--> 457\u001b[0;31m         \u001b[0m_validate_exp\u001b[0m\u001b[0;34m(\u001b[0m\u001b[0mclaims\u001b[0m\u001b[0;34m,\u001b[0m \u001b[0mleeway\u001b[0m\u001b[0;34m=\u001b[0m\u001b[0mleeway\u001b[0m\u001b[0;34m)\u001b[0m\u001b[0;34m\u001b[0m\u001b[0m\n\u001b[0m\u001b[1;32m    458\u001b[0m \u001b[0;34m\u001b[0m\u001b[0m\n\u001b[1;32m    459\u001b[0m     \u001b[0;32mif\u001b[0m \u001b[0moptions\u001b[0m\u001b[0;34m.\u001b[0m\u001b[0mget\u001b[0m\u001b[0;34m(\u001b[0m\u001b[0;34m'verify_aud'\u001b[0m\u001b[0;34m)\u001b[0m\u001b[0;34m:\u001b[0m\u001b[0;34m\u001b[0m\u001b[0m\n",
      "\u001b[0;32m/usr/local/var/pyenv/versions/p2/envs/p3/lib/python3.6/site-packages/jose/jwt.py\u001b[0m in \u001b[0;36m_validate_exp\u001b[0;34m(claims, leeway)\u001b[0m\n\u001b[1;32m    297\u001b[0m \u001b[0;34m\u001b[0m\u001b[0m\n\u001b[1;32m    298\u001b[0m     \u001b[0;32mif\u001b[0m \u001b[0mexp\u001b[0m \u001b[0;34m<\u001b[0m \u001b[0;34m(\u001b[0m\u001b[0mnow\u001b[0m \u001b[0;34m-\u001b[0m \u001b[0mleeway\u001b[0m\u001b[0;34m)\u001b[0m\u001b[0;34m:\u001b[0m\u001b[0;34m\u001b[0m\u001b[0m\n\u001b[0;32m--> 299\u001b[0;31m         \u001b[0;32mraise\u001b[0m \u001b[0mExpiredSignatureError\u001b[0m\u001b[0;34m(\u001b[0m\u001b[0;34m'Signature has expired.'\u001b[0m\u001b[0;34m)\u001b[0m\u001b[0;34m\u001b[0m\u001b[0m\n\u001b[0m\u001b[1;32m    300\u001b[0m \u001b[0;34m\u001b[0m\u001b[0m\n\u001b[1;32m    301\u001b[0m \u001b[0;34m\u001b[0m\u001b[0m\n",
      "\u001b[0;31mExpiredSignatureError\u001b[0m: Signature has expired."
     ]
    }
   ],
   "source": []
  },
  {
   "cell_type": "code",
   "execution_count": null,
   "metadata": {
    "collapsed": true
   },
   "outputs": [],
   "source": []
  }
 ],
 "metadata": {
  "kernelspec": {
   "display_name": "Python 3",
   "language": "python",
   "name": "python3"
  },
  "language_info": {
   "codemirror_mode": {
    "name": "ipython",
    "version": 3
   },
   "file_extension": ".py",
   "mimetype": "text/x-python",
   "name": "python",
   "nbconvert_exporter": "python",
   "pygments_lexer": "ipython3",
   "version": "3.6.2"
  }
 },
 "nbformat": 4,
 "nbformat_minor": 2
}
